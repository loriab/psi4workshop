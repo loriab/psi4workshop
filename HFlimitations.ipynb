{
 "cells": [
  {
   "cell_type": "markdown",
   "metadata": {},
   "source": [
    "# 0. Setup"
   ]
  },
  {
   "cell_type": "code",
   "execution_count": null,
   "metadata": {
    "collapsed": false
   },
   "outputs": [],
   "source": [
    "%matplotlib inline\n",
    "import matplotlib.pyplot as plt"
   ]
  },
  {
   "cell_type": "code",
   "execution_count": null,
   "metadata": {
    "collapsed": false
   },
   "outputs": [],
   "source": [
    "%%writefile setup.in\n",
    "molecule h2o {\n",
    "  O \n",
    "  H 1 0.96\n",
    "  H 1 0.96 2 104.5\n",
    "}\n",
    "\n",
    "set basis cc-pVDZ\n",
    "energy('scf')\n",
    "\n",
    "compare_values(-76.0266327341067125, get_variable('SCF TOTAL ENERGY'), 6, 'SCF energy')"
   ]
  },
  {
   "cell_type": "code",
   "execution_count": null,
   "metadata": {
    "collapsed": false
   },
   "outputs": [],
   "source": [
    "!psi4 setup.in"
   ]
  },
  {
   "cell_type": "markdown",
   "metadata": {},
   "source": [
    "## II. Limitations in Hartree–Fock theory\n",
    "\n",
    "from lab by Eugene DePrince, FSU"
   ]
  },
  {
   "cell_type": "markdown",
   "metadata": {},
   "source": [
    "The Hartree–Fock method is a very powerful and very important method in quantum chemistry, but it has a number of shortcomings. Here, you will explore two of these limitations.\n",
    "\n",
    "##### A. Bond Breaking\n",
    "\n",
    "Hartree–Fock theory cannot properly describe the breaking of chemical bonds, even in simple molecules like H$_2$! Compute a potential energy curve (PEC) for H$_2$ at the Hartree–Fock/6-31G and singles and doubles coupled cluster (CCSD)/6-31G levels of theory (for this system, CCSD will provide the exact result). Plot the energy as a function of bond length using the following bond lengths [Å]: 0.5, 0.7, 0.9, 1.1, 1.5, 2.0, 2.5, 3.0 ."
   ]
  },
  {
   "cell_type": "code",
   "execution_count": null,
   "metadata": {
    "collapsed": false
   },
   "outputs": [],
   "source": [
    "%%writefile hhbond.in\n",
    "molecule h2 {\n",
    "    H\n",
    "    H 1 bond\n",
    "}\n",
    "\n",
    "set basis 6-31G\n",
    "\n",
    "interatom_separations = []\n",
    "hf_energies = []\n",
    "ccsd_energies = []\n",
    "for r in [0.5, 0.7, 0.9, 1.1, 1.5, 2.0, 2.5, 3.0]:\n",
    "    h2.bond = r\n",
    "    interatom_separations.append(r)\n",
    "\n",
    "    e = energy('HF')\n",
    "    hf_energies.append(e)\n",
    " \n",
    "    clean()\n",
    "    \n",
    "    e = energy('ccsd')\n",
    "    ccsd_energies.append(e)\n",
    "\n",
    "print interatom_separations\n",
    "print hf_energies\n",
    "print ccsd_energies"
   ]
  },
  {
   "cell_type": "code",
   "execution_count": null,
   "metadata": {
    "collapsed": false
   },
   "outputs": [],
   "source": [
    "! psi4 hhbond.in"
   ]
  },
  {
   "cell_type": "markdown",
   "metadata": {},
   "source": [
    "**Q.** Using your results, estimate the dissociation energy at the CCSD/6-31G level of theory (in kcal/mol). By how much does Hartree–Fock overestimate the dissociation energy, relative to CCSD?"
   ]
  },
  {
   "cell_type": "code",
   "execution_count": null,
   "metadata": {
    "collapsed": false
   },
   "outputs": [],
   "source": [
    "dist = [0.5, 0.7, 0.9, 1.1, 1.5, 2.0, 2.5, 3.0]\n",
    "hfe = [-1.058027112142081, -1.1261243206686637, -1.1116878042209115, -1.0756881883148715, -0.997501528037092, -0.9162809010422871, -0.8569176468935037, -0.8156205218197542]\n",
    "cce = [-1.077863898365415, -1.150156838995527, -1.1406024510970791, -1.1112698758321018, -1.0543474453294603, -1.0143102742983847, -1.00081314765349, -0.9974548300833993]\n",
    "\n",
    "cc_dissoc = (max(cce) - min(cce)) * 627.5095\n",
    "hf_dissoc = (max(hfe) - min(hfe)) * 627.5095\n",
    "\n",
    "plt.plot(dist, hfe, 'r--o', dist, cce, 'g-.o')\n",
    "plt.axis([0.45, 3.5, None, None])\n",
    "\n",
    "plt.annotate(str(round(cc_dissoc, 2)), xy=(3.05, max(cce)), color='g')\n",
    "plt.annotate('', xy=(3.0, min(cce)), xycoords='data',\n",
    "                 xytext=(3.0, max(cce)), textcoords='data',\n",
    "                 arrowprops=dict(arrowstyle=\"<->\",\n",
    "                                 connectionstyle=\"bar\",\n",
    "                                 ec=\"g\",\n",
    "                                 shrinkA=5, shrinkB=5))\n",
    "\n",
    "plt.annotate(str(round(hf_dissoc, 2)), xy=(3.05, max(hfe)), color='r')\n",
    "plt.annotate('', xy=(3.0, min(hfe)), xycoords='data',\n",
    "                 xytext=(3.0, max(hfe)), textcoords='data',\n",
    "                 arrowprops=dict(arrowstyle=\"<->\",\n",
    "                                 connectionstyle=\"bar\",\n",
    "                                 ec=\"r\",\n",
    "                                 shrinkA=5, shrinkB=5))"
   ]
  },
  {
   "cell_type": "markdown",
   "metadata": {},
   "source": [
    "**Q.** Compute the non-bonded interaction energy for the FH dimer at the SCF/aug-cc-pVDZ level of theory in the linear configuration (F–H   F–H) using this procedure. Perform a geometry optimization of the F-H molecule. Record the final energy."
   ]
  },
  {
   "cell_type": "code",
   "execution_count": null,
   "metadata": {
    "collapsed": false
   },
   "outputs": [],
   "source": [
    "%%writefile fhdim.in\n",
    "molecule monomer {\n",
    "    H\n",
    "    F 1 1.0\n",
    "}\n",
    "\n",
    "molecule dimer {\n",
    "    H 0.0 0.0 0.0\n",
    "    F 0.0 0.0 1.0\n",
    "    H 0.0 0.0 2.0\n",
    "    F 0.0 0.0 3.0\n",
    "}\n",
    "\n",
    "set basis aug-cc-pvdz\n",
    "\n",
    "e_fh = optimize('hf', molecule=monomer)\n",
    "e_fhfh = optimize('hf', molecule=dimer)\n",
    "\n",
    "e_int = e_fhfh - 2 * e_fh\n",
    "print 'Monomer', e_fh\n",
    "print 'Dimer', e_fhfh\n",
    "print 'IE', e_int, e_int * 627.5095"
   ]
  },
  {
   "cell_type": "code",
   "execution_count": null,
   "metadata": {
    "collapsed": false
   },
   "outputs": [],
   "source": [
    "! psi4 fhdim.in"
   ]
  },
  {
   "cell_type": "code",
   "execution_count": null,
   "metadata": {
    "collapsed": false
   },
   "outputs": [],
   "source": [
    "! grep '~' fhdim.out"
   ]
  },
  {
   "cell_type": "markdown",
   "metadata": {},
   "source": [
    "**Q.** What is the interaction energy? How does it compare with the interaction energy computed at the coupled-cluster through perturbative triple excitation [CCSD(T)]/aug-cc-pVDZ level of theory (`-3.846 [kcal/mol]`)?\n",
    "\n",
    "Compute the interaction energy for the Argon dimer in the aug-cc-pVDZ basis. This time, do not optimize the Argon dimer geometry. Instread, assume an interatom separation of `3.999 [Å]`. How does your result compare to the CCSD(T)/aug-cc-pVDZ value of `-0.262 [kcal/mol]`. What does the sign of youre result say about the interaction (is it favorable/unfavorable)?"
   ]
  },
  {
   "cell_type": "code",
   "execution_count": null,
   "metadata": {
    "collapsed": false
   },
   "outputs": [],
   "source": [
    "%%writefile ardim.in\n",
    "\n",
    "set basis aug-cc-pvdz\n",
    "\n",
    "molecule ar {\n",
    "    Ar\n",
    "}\n",
    "\n",
    "e_ar = energy('hf')\n",
    "\n",
    "molecule arar {\n",
    "    Ar\n",
    "    Ar 1 3.999    \n",
    "}\n",
    "\n",
    "e_arar = energy('hf')\n",
    "\n",
    "e_int = e_arar - 2 * e_ar\n",
    "print 'Monomer', e_ar\n",
    "print 'Dimer', e_arar\n",
    "print 'IE', e_int, e_int * 627.5095\n",
    "print 'CCSD(T) IE', -0.262"
   ]
  },
  {
   "cell_type": "code",
   "execution_count": null,
   "metadata": {
    "collapsed": false
   },
   "outputs": [],
   "source": [
    "! psi4 ardim.in"
   ]
  },
  {
   "cell_type": "markdown",
   "metadata": {},
   "source": [
    "Below you will find the interaction energy (kcal/mol) of the argon dimer computed at the CCSD(T)/aug-cc-pVDZ level of theory. Compute and record the interaction energy for the ARgon dimer at the Hartree–Fock/aug-cc-pVDZ level of theory at these Ar-Ar distances [Å], and plot your results alongside the following CCSD(T) results."
   ]
  },
  {
   "cell_type": "code",
   "execution_count": null,
   "metadata": {
    "collapsed": false
   },
   "outputs": [],
   "source": [
    "%%writefile ardimpec.in\n",
    "\n",
    "set basis aug-cc-pvdz\n",
    "\n",
    "molecule ar {\n",
    "    Ar\n",
    "}\n",
    "\n",
    "e_ar = energy('hf')\n",
    "\n",
    "molecule arar {\n",
    "    Ar\n",
    "    Ar 1 Rarar    \n",
    "}\n",
    "\n",
    "dist = [3.4, 3.6, 3.8, 4.0, 4.2, 4.4]\n",
    "enes = []\n",
    "\n",
    "\n",
    "for r in dist:\n",
    "    arar.Rarar = r\n",
    "    e_arar = energy('hf')\n",
    "    \n",
    "    ie = 627.5095 * (e_arar - 2 * e_ar)  # IE in kcal/mol\n",
    "    enes.append(ie)\n",
    "\n",
    "print dist\n",
    "print enes"
   ]
  },
  {
   "cell_type": "code",
   "execution_count": null,
   "metadata": {
    "collapsed": false
   },
   "outputs": [],
   "source": [
    "! psi4 ardimpec.in"
   ]
  },
  {
   "cell_type": "code",
   "execution_count": null,
   "metadata": {
    "collapsed": true
   },
   "outputs": [],
   "source": [
    "dist = [3.4, 3.6, 3.8, 4.0, 4.2, 4.4]\n",
    "hfe = [0.9284148251100534, 0.4336228746747894, 0.19190747942300562, 0.07595446731295193, 0.023432316097122794, 0.0018151033981354202]\n",
    "cce = [0.136, -0.146, -0.244, -0.262, -0.245, -0.214]"
   ]
  },
  {
   "cell_type": "code",
   "execution_count": null,
   "metadata": {
    "collapsed": false
   },
   "outputs": [],
   "source": [
    "plt.plot(dist, hfe, 'r--o', dist, cce, 'g-.o')\n",
    "plt.axhline(0, color='grey')"
   ]
  },
  {
   "cell_type": "markdown",
   "metadata": {},
   "source": [
    "Does Hartree-Fock predict a minimum in the IE? Why or why not? What types of intermolecular interactions would you expect to dominate in the FH dimer and the Ar dimer? Based on your results, what can you say about the ability of the Hartree–Fock method to describe these types of interactions?"
   ]
  },
  {
   "cell_type": "markdown",
   "metadata": {},
   "source": [
    "Does Hartree-Fock predict a minimum in the IE? Why or why not? What types of intermolecular interactions would you expect to dominate in the FH dimer and the Ar dimer? Based on your results, what can you say about the ability of the Hartree–Fock method to describe these types of interactions"
   ]
  },
  {
   "cell_type": "code",
   "execution_count": null,
   "metadata": {
    "collapsed": true
   },
   "outputs": [],
   "source": []
  }
 ],
 "metadata": {
  "kernelspec": {
   "display_name": "Python 2",
   "language": "python",
   "name": "python2"
  },
  "language_info": {
   "codemirror_mode": {
    "name": "ipython",
    "version": 2
   },
   "file_extension": ".py",
   "mimetype": "text/x-python",
   "name": "python",
   "nbconvert_exporter": "python",
   "pygments_lexer": "ipython2",
   "version": "2.7.11"
  }
 },
 "nbformat": 4,
 "nbformat_minor": 0
}
