{
 "cells": [
  {
   "cell_type": "markdown",
   "metadata": {},
   "source": [
    "# 0. Setup"
   ]
  },
  {
   "cell_type": "code",
   "execution_count": null,
   "metadata": {
    "collapsed": false
   },
   "outputs": [],
   "source": [
    "%matplotlib inline\n",
    "import matplotlib.pyplot as plt"
   ]
  },
  {
   "cell_type": "markdown",
   "metadata": {},
   "source": [
    "* Install a binary from conda (Linux or Mac) through instructions http://psicode.org/psi4manual/master/conda.html#quick-installation\n",
    "* Log into FSU machine ``FILL IN``"
   ]
  },
  {
   "cell_type": "code",
   "execution_count": null,
   "metadata": {
    "collapsed": false
   },
   "outputs": [],
   "source": [
    "! which psi4\n",
    "! echo $PSIDATADIR\n",
    "! echo $PYTHONPATH\n",
    "! echo $PSI_SCRATCH"
   ]
  },
  {
   "cell_type": "code",
   "execution_count": null,
   "metadata": {
    "collapsed": false
   },
   "outputs": [],
   "source": [
    "%%writefile setup.in\n",
    "molecule h2o {\n",
    "  O \n",
    "  H 1 0.96\n",
    "  H 1 0.96 2 104.5\n",
    "}\n",
    "\n",
    "set basis cc-pVDZ\n",
    "energy('scf')\n",
    "\n",
    "compare_values(-76.0266327341067125, get_variable('SCF TOTAL ENERGY'), 6, 'SCF energy')"
   ]
  },
  {
   "cell_type": "code",
   "execution_count": null,
   "metadata": {
    "collapsed": false
   },
   "outputs": [],
   "source": [
    "!psi4 setup.in"
   ]
  },
  {
   "cell_type": "markdown",
   "metadata": {},
   "source": [
    "## I. Overview"
   ]
  },
  {
   "cell_type": "markdown",
   "metadata": {},
   "source": [
    "## A. Single-point application: the complete basis set (CBS) limit\n",
    "\n",
    "from lab by Eugene DePrince, FSU"
   ]
  },
  {
   "cell_type": "markdown",
   "metadata": {},
   "source": [
    "### 0. Basis set limit\n",
    "\n",
    "**Q.** For a single hydrogen atom, set up a new Hartree–Fock job with a minimal basis set (STO-3G). Since H has one electron, we can't use a restricted (RHF) reference. Switch the reference to unrestricted (UHF), and make sure the multiplicity is a doublet and the charge is zero. Submit your job and view the output file. Scroll to the bottom to see the Hartree–Fock energy."
   ]
  },
  {
   "cell_type": "code",
   "execution_count": null,
   "metadata": {
    "collapsed": false
   },
   "outputs": [],
   "source": [
    "%%writefile cbs_0.in\n",
    "molecule hatom {\n",
    "0 2  # neutral atom, doublet multiplicity\n",
    "H\n",
    "}\n",
    "\n",
    "set reference uhf\n",
    "\n",
    "#set basis sto-3g\n",
    "#set basis 6-31g*\n",
    "#set basis cc-pvDZ\n",
    "set basis cc-pvtZ\n",
    "\n",
    "energy('hf')\n",
    "print_variables()"
   ]
  },
  {
   "cell_type": "code",
   "execution_count": null,
   "metadata": {
    "collapsed": true
   },
   "outputs": [],
   "source": [
    "!cat cbs_0.in"
   ]
  },
  {
   "cell_type": "code",
   "execution_count": null,
   "metadata": {
    "collapsed": false
   },
   "outputs": [],
   "source": [
    "! psi4 cbs_0.in -o stdout"
   ]
  },
  {
   "cell_type": "markdown",
   "metadata": {},
   "source": [
    "**Q.** Record the energy to 5 decimal places and include appropriate units. Record the number of basis functions (_not_ Cartesian basis functions) in the \"Primary Basis\" section. Repeat for basis sets 6-31G, cc-pVDZ, and cc-pVTZ. What value does the energy approach? Which basis set is most accurate? Why?"
   ]
  },
  {
   "cell_type": "code",
   "execution_count": null,
   "metadata": {
    "collapsed": false
   },
   "outputs": [],
   "source": [
    "number_basis_functions = []\n",
    "hydrogen_atom_energy = []\n",
    "\n",
    "number_basis_functions = [1, 2, 5, 14]\n",
    "hydrogen_atom_energy = [-0.4665818495572753, -0.49823291072907, -0.49927840341958, -0.4998098113018429]\n",
    "\n",
    "plt.plot(number_basis_functions, hydrogen_atom_energy, 'b-o')\n",
    "plt.show()"
   ]
  },
  {
   "cell_type": "markdown",
   "metadata": {},
   "source": [
    "Now evaluate the complete basis set (CBS) energy according to this extrapolation formula:\n",
    "\n",
    "Helgaker's 2-point extrapolation\n",
    "* $E_x = E_{\\text{CBS}} + \\beta e^{-\\alpha x}$\n",
    "* $\\alpha=1.63$\n",
    "* $E_x$ is energy computed in a given basis set\n",
    "* $x$ is zeta level of that basis\n",
    "* $\\beta$ and $E_{\\text{CBS}}$ are unknowns. Latter is target"
   ]
  },
  {
   "cell_type": "markdown",
   "metadata": {},
   "source": [
    "### Method 1: by hand"
   ]
  },
  {
   "cell_type": "code",
   "execution_count": null,
   "metadata": {
    "collapsed": false
   },
   "outputs": [],
   "source": [
    "%%writefile cbs_1.in\n",
    "molecule hatom {\n",
    "0 2  # neutral atom, doublet multiplicity\n",
    "H\n",
    "}\n",
    "\n",
    "set reference uhf\n",
    "\n",
    "set basis cc-pvDZ\n",
    "energy('hf')\n",
    "print_variables()\n",
    "\n",
    "clean()\n",
    "\n",
    "set basis cc-pvtz\n",
    "energy('hf')\n",
    "print_variables()"
   ]
  },
  {
   "cell_type": "code",
   "execution_count": null,
   "metadata": {
    "collapsed": false,
    "scrolled": true
   },
   "outputs": [],
   "source": [
    "!psi4 cbs_1.in -o stdout"
   ]
  },
  {
   "cell_type": "code",
   "execution_count": null,
   "metadata": {
    "collapsed": true
   },
   "outputs": [],
   "source": [
    "eLO = -0.499278403420\n",
    "eHI = -0.499809811302\n",
    "# do math\n",
    "eCBS ="
   ]
  },
  {
   "cell_type": "markdown",
   "metadata": {},
   "source": [
    "### Method 2: by python"
   ]
  },
  {
   "cell_type": "code",
   "execution_count": null,
   "metadata": {
    "collapsed": false
   },
   "outputs": [],
   "source": [
    "%%writefile cbs_2.in\n",
    "molecule hatom {\n",
    "0 2  # neutral atom, doublet multiplicity\n",
    "H\n",
    "}\n",
    "\n",
    "set reference uhf\n",
    "\n",
    "set basis cc-pvDZ\n",
    "eLO = energy('hf')\n",
    "\n",
    "clean()\n",
    "\n",
    "set basis cc-pvtz\n",
    "eHI = energy('hf')\n",
    "\n",
    "# jobs over. now post-processing\n",
    "zLO = 2  # cc-pvdz is double-zeta\n",
    "zHI = 3  # cc-pvtz is triple-zeta\n",
    "alpha = 1.63\n",
    "\n",
    "beta = (eHI - eLO) / (math.exp(-1 * alpha * zLO) * (math.exp(-1 * alpha) - 1))\n",
    "eCBS = eHI - beta * math.exp(-1 * alpha * zHI)\n",
    "\n",
    "print 'LO', zLO, eLO\n",
    "print 'HI', zHI, eHI\n",
    "print 'CBS', eCBS"
   ]
  },
  {
   "cell_type": "code",
   "execution_count": null,
   "metadata": {
    "collapsed": false
   },
   "outputs": [],
   "source": [
    "!psi4 cbs_2.in -o stdout"
   ]
  },
  {
   "cell_type": "markdown",
   "metadata": {},
   "source": [
    "### Method 3: by Psi4 internal wrapper"
   ]
  },
  {
   "cell_type": "code",
   "execution_count": null,
   "metadata": {
    "collapsed": false
   },
   "outputs": [],
   "source": [
    "%%writefile cbs_3.in\n",
    "molecule hatom {\n",
    "0 2  # neutral atom, doublet multiplicity\n",
    "H\n",
    "}\n",
    "\n",
    "set reference uhf\n",
    "\n",
    "#cbs('scf', scf_basis='cc-pv[dt]z')  # old\n",
    "energy('hf/cc-pv[dt]z')  # new"
   ]
  },
  {
   "cell_type": "code",
   "execution_count": null,
   "metadata": {
    "collapsed": false
   },
   "outputs": [],
   "source": [
    "!psi4 cbs_3.in -o stdout"
   ]
  },
  {
   "cell_type": "markdown",
   "metadata": {},
   "source": [
    "**Q.** How do the results compare between your hand-computed and Psi4-computed figures?"
   ]
  },
  {
   "cell_type": "markdown",
   "metadata": {},
   "source": [
    "## B. Optimization & Frequency Application: rotational barriers"
   ]
  },
  {
   "cell_type": "markdown",
   "metadata": {},
   "source": [
    "### 1. Potential Energy Curve\n",
    "\n",
    "**Q.** Take an ethane molecule and trace its potential energy as a function of rotation up to 120$^\\circ$ around the C–C single bond. Why choose 120$^\\circ$? Would more or less yield more information?"
   ]
  },
  {
   "cell_type": "code",
   "execution_count": null,
   "metadata": {
    "collapsed": false
   },
   "outputs": [],
   "source": [
    "%%writefile pec.in\n",
    "molecule eth {\n",
    "C\n",
    "C  1  r2\n",
    "H  1  r3  2  a3\n",
    "H  1  r4  2  a4  3  d4\n",
    "H  1  r5  2  a5  3  d5\n",
    "\n",
    "H  2  r6  1  a6  3  d6\n",
    "H  2  r7  1  a7  3  d7\n",
    "H  2  r8  1  a8  3  d8\n",
    "\n",
    "r2= 1.5193\n",
    "r3= 1.1103\n",
    "a3= 109.82\n",
    "r4= 1.1103\n",
    "a4= 109.82\n",
    "d4= 240.00\n",
    "r5= 1.1103\n",
    "a5= 109.82\n",
    "d5= 120.00\n",
    "r6= 1.1103\n",
    "a6= 109.82\n",
    "d6=  60.00\n",
    "r7= 1.1103\n",
    "a7= 109.82\n",
    "d7= 300.00\n",
    "r8= 1.1103\n",
    "a8= 109.82\n",
    "d8= 179.97\n",
    "}\n",
    "\n",
    "set basis 3-21g #cc-pvdz\n",
    "\n",
    "# one full cycle in 15 deg increments\n",
    "for dih in range(0, 121, 15):\n",
    "    eth.d6 =  60.0 + dih\n",
    "    eth.d7 = 300.0 + dih\n",
    "    eth.d8 = 180.0 + dih\n",
    "    \n",
    "    e = energy('b3lyp')\n",
    "    print dih, e"
   ]
  },
  {
   "cell_type": "code",
   "execution_count": null,
   "metadata": {
    "collapsed": false
   },
   "outputs": [],
   "source": [
    "!psi4 pec.in #-o stdout"
   ]
  },
  {
   "cell_type": "code",
   "execution_count": null,
   "metadata": {
    "collapsed": false
   },
   "outputs": [],
   "source": [
    "# cc-pvdz\n",
    "answers = {\n",
    "0: -79.8282248783,\n",
    "15: -79.8273852372,\n",
    "30: -79.82534081,\n",
    "45: -79.8232732704,\n",
    "60: -79.822412629,\n",
    "75: -79.8232732704,\n",
    "90: -79.82534081,\n",
    "105: -79.8273852372,\n",
    "120: -79.8282262361,\n",
    "    }\n",
    "# 3-21g\n",
    "answers = {\n",
    "0: -79.4015689083,\n",
    "15: -79.4007537622,\n",
    "30: -79.3987687086,\n",
    "45: -79.3967648645,\n",
    "60: -79.3959327201,\n",
    "75: -79.3967648645, \n",
    "90: -79.3987687086,\n",
    "105: -79.4007537622,\n",
    "120: -79.4015714988,\n",
    "}\n",
    "for ang, ene in answers.iteritems():\n",
    "    print \"\"\"{:10} {:16.8f}\"\"\".format(ang, ene)"
   ]
  },
  {
   "cell_type": "code",
   "execution_count": null,
   "metadata": {
    "collapsed": false
   },
   "outputs": [],
   "source": [
    "plt.plot(answers.keys(), answers.values(), 'ro')\n",
    "plt.show()"
   ]
  },
  {
   "cell_type": "code",
   "execution_count": null,
   "metadata": {
    "collapsed": false
   },
   "outputs": [],
   "source": [
    "plt.plot(answers.keys(), [(ans - answers[0]) * 627.5095 for ans in answers.values()], 'bo')\n",
    "plt.axis([-5, 125, -0.1, 4.0])\n",
    "plt.xlabel('torsion angle [deg]')\n",
    "plt.ylabel('potential energy [kcal/mol]')\n",
    "plt.title('ethane torsion')\n",
    "plt.annotate(r'staggered', xy=(0, 0))\n",
    "plt.annotate('eclipsed', xy=(60, 3.5))\n",
    "plt.annotate(r'staggered', xy=(120, 0))\n",
    "plt.show()"
   ]
  },
  {
   "cell_type": "markdown",
   "metadata": {},
   "source": [
    "### 2. Optimized curve\n",
    "\n",
    "The above was a MM-optimized staggered minimum, then a rigid rotation around the C–C single bond. Now try optimizing the endpoints"
   ]
  },
  {
   "cell_type": "code",
   "execution_count": null,
   "metadata": {
    "collapsed": false
   },
   "outputs": [],
   "source": [
    "%%writefile staggered_opt.in\n",
    "molecule eth {\n",
    "C\n",
    "C  1  r2\n",
    "H  1  r3  2  a3\n",
    "H  1  r4  2  a4  3  d4\n",
    "H  1  r5  2  a5  3  d5\n",
    "\n",
    "H  2  r6  1  a6  3  d6\n",
    "H  2  r7  1  a7  3  d7\n",
    "H  2  r8  1  a8  3  d8\n",
    "\n",
    "r2= 1.5193\n",
    "r3= 1.1103\n",
    "a3= 109.82\n",
    "r4= 1.1103\n",
    "a4= 109.82\n",
    "d4= 240.00\n",
    "r5= 1.1103\n",
    "a5= 109.82\n",
    "d5= 120.00\n",
    "r6= 1.1103\n",
    "a6= 109.82\n",
    "d6=  60.00\n",
    "r7= 1.1103\n",
    "a7= 109.82\n",
    "d7= 300.00\n",
    "r8= 1.1103\n",
    "a8= 109.82\n",
    "d8= 179.97\n",
    "}\n",
    "\n",
    "set basis 3-21g\n",
    "\n",
    "e_staggered = optimize('b3lyp')"
   ]
  },
  {
   "cell_type": "code",
   "execution_count": null,
   "metadata": {
    "collapsed": false,
    "scrolled": true
   },
   "outputs": [],
   "source": [
    "! psi4 staggered_opt.in"
   ]
  },
  {
   "cell_type": "code",
   "execution_count": null,
   "metadata": {
    "collapsed": false
   },
   "outputs": [],
   "source": [
    "!grep '~' staggered_opt.out"
   ]
  },
  {
   "cell_type": "code",
   "execution_count": null,
   "metadata": {
    "collapsed": false
   },
   "outputs": [],
   "source": [
    "!tail -100 staggered_opt.out"
   ]
  },
  {
   "cell_type": "code",
   "execution_count": null,
   "metadata": {
    "collapsed": false
   },
   "outputs": [],
   "source": [
    "%%writefile eclipsed_opt.in\n",
    "molecule eth {\n",
    "C\n",
    "C  1  r2\n",
    "H  1  r3  2  a3\n",
    "H  1  r4  2  a4  3  d4\n",
    "H  1  r5  2  a5  3  d5\n",
    "\n",
    "H  2  r6  1  a6  3  d6\n",
    "H  2  r7  1  a7  3  d7\n",
    "H  2  r8  1  a8  3  d8\n",
    "\n",
    "r2= 1.5193\n",
    "r3= 1.1103\n",
    "a3= 109.82\n",
    "r4= 1.1103\n",
    "a4= 109.82\n",
    "d4= 240.00\n",
    "r5= 1.1103\n",
    "a5= 109.82\n",
    "d5= 120.00\n",
    "r6= 1.1103\n",
    "a6= 109.82\n",
    "d6=  60.00\n",
    "r7= 1.1103\n",
    "a7= 109.82\n",
    "d7= 300.00\n",
    "r8= 1.1103\n",
    "a8= 109.82\n",
    "d8= 179.97\n",
    "}\n",
    "\n",
    "set basis 3-21g\n",
    "\n",
    "eth.d6 = 120.0\n",
    "eth.d7 = 360.0\n",
    "eth.d8 = 240.0\n",
    "\n",
    "set opt_type ts\n",
    "\n",
    "e_eclipsed = optimize('b3lyp')"
   ]
  },
  {
   "cell_type": "code",
   "execution_count": null,
   "metadata": {
    "collapsed": false
   },
   "outputs": [],
   "source": [
    "! psi4 eclipsed_opt.in"
   ]
  },
  {
   "cell_type": "code",
   "execution_count": null,
   "metadata": {
    "collapsed": false,
    "scrolled": true
   },
   "outputs": [],
   "source": [
    "! grep '~' eclipsed_opt.out\n",
    "! tail -100 eclipsed_opt.out"
   ]
  },
  {
   "cell_type": "markdown",
   "metadata": {},
   "source": [
    "### 3. Thermodynamic corrections\n",
    "\n",
    "**Q.** What effect on the rotational barrier does vibrational energy have? internal energy? enthalpy? free energy? doubling the temperature?"
   ]
  },
  {
   "cell_type": "code",
   "execution_count": null,
   "metadata": {
    "collapsed": false
   },
   "outputs": [],
   "source": [
    "%%writefile freqs.in\n",
    "molecule stag {\n",
    "    C       \n",
    "    C             1          r2\n",
    "    H             1          r3      2          a3\n",
    "    H             1          r4      2          a4      3          d4\n",
    "    H             1          r5      2          a5      3          d5\n",
    "    H             2          r6      1          a6      3          d6\n",
    "    H             2          r7      1          a7      3          d7\n",
    "    H             2          r8      1          a8      3          d8\n",
    "\n",
    "    a3        =  110.9135020855\n",
    "    a4        =  110.9118973107\n",
    "    a5        =  110.9132048683\n",
    "    a6        =  110.9130880760\n",
    "    a7        =  110.9120167265\n",
    "    a8        =  110.9134968558\n",
    "    d4        = -119.9997985457\n",
    "    d5        =  120.0009727632\n",
    "    d6        =   59.9988300896\n",
    "    d7        =  -60.0004071780\n",
    "    d8        =  179.9988111527\n",
    "    r2        =    1.5432372377\n",
    "    r3        =    1.0955417759\n",
    "    r4        =    1.0955431815\n",
    "    r5        =    1.0955432326\n",
    "    r6        =    1.0955475452\n",
    "    r7        =    1.0955388617\n",
    "    r8        =    1.0955417809\n",
    "}\n",
    "\n",
    "molecule eclip {\n",
    "    C       \n",
    "    C             1          r2\n",
    "    H             1          r3      2          a3\n",
    "    H             1          r4      2          a4      3          d4\n",
    "    H             1          r5      2          a5      3          d5\n",
    "    H             2          r6      1          a6      3          d6\n",
    "    H             2          r7      1          a7      3          d7\n",
    "    H             2          r8      1          a8      3          d8\n",
    "\n",
    "    a3        =  111.2755161893\n",
    "    a4        =  111.2755161893\n",
    "    a5        =  111.2753191064\n",
    "    a6        =  111.2755161893\n",
    "    a7        =  111.2755161893\n",
    "    a8        =  111.2753191064\n",
    "    d4        = -120.0000441842\n",
    "    d5        =  119.9999779079\n",
    "    d6        =  120.0000441842\n",
    "    d7        =    0.0000000000\n",
    "    d8        = -119.9999779079\n",
    "    r2        =    1.5587040608\n",
    "    r3        =    1.0945195926\n",
    "    r4        =    1.0945195926\n",
    "    r5        =    1.0945202683\n",
    "    r6        =    1.0945195926\n",
    "    r7        =    1.0945195926\n",
    "    r8        =    1.0945202683\n",
    "}\n",
    "\n",
    "set basis 3-21g\n",
    "\n",
    "e, wfn = freq('b3lyp', molecule=stag, return_wfn=True)\n",
    "clean()\n",
    "\n",
    "set t 400.0\n",
    "thermo(wfn, wfn.frequencies())\n",
    "clean()\n",
    "\n",
    "set t 298.15\n",
    "e, wfn = freq('b3lyp', molecule=eclip, return_wfn=True)\n",
    "clean()\n",
    "\n",
    "set t 400.0\n",
    "thermo(wfn, wfn.frequencies())"
   ]
  },
  {
   "cell_type": "code",
   "execution_count": null,
   "metadata": {
    "collapsed": false
   },
   "outputs": [],
   "source": [
    "!psi4 freqs.in"
   ]
  },
  {
   "cell_type": "code",
   "execution_count": null,
   "metadata": {
    "collapsed": false
   },
   "outputs": [],
   "source": [
    "!tail -1000 freqs.out"
   ]
  },
  {
   "cell_type": "code",
   "execution_count": null,
   "metadata": {
    "collapsed": false
   },
   "outputs": [],
   "source": [
    "! grep '\\[K\\]' freqs.out | grep '[Eh]' | awk '{print $(NF-1)}'"
   ]
  },
  {
   "cell_type": "code",
   "execution_count": null,
   "metadata": {
    "collapsed": false
   },
   "outputs": [],
   "source": [
    "E0, = plt.plot([0, 60], [0, 627.5095 * (-79.39888418 - -79.40320254)], 'k--v', label='Electronic energy at well bottom at 0 [K]')\n",
    "ZPE, = plt.plot([0, 60], [0, 627.5095 * (-79.32340729 - -79.32733679)], 'k--o', label='Electronic energy at 0 [K]')\n",
    "E, = plt.plot([0, 60], [0, 627.5095 * (-79.32038186 - -79.32387449)], 'b--o', label='Electronic energy at  298.15 [K]')\n",
    "H, = plt.plot([0, 60], [0, 627.5095 * (-79.31943767 - -79.32293031)], 'g--o', label='Enthalpy at  298.15 [K]')\n",
    "G, = plt.plot([0, 60], [0, 627.5095 * (-79.34564088 - -79.35046391)], 'r--o', label='Free enthalpy at  298.15 [K]')\n",
    "E400, = plt.plot([0, 60], [0, 627.5095 * (-79.31885241 - -79.32203961)], 'c-.s', label='Electronic energy at 400.00 [K]')\n",
    "H400, = plt.plot([0, 60], [0, 627.5095 * (-79.31758568 - -79.32077288)], 'y-.s', label='Enthalpy at 400.00 [K]')\n",
    "G400, = plt.plot([0, 60], [0, 627.5095 * (-79.35486460 - -79.36018859)], 'm-.s', label='Free enthalpy at 400.00 [K]')\n",
    "MM, = plt.plot(answers.keys(), [(ans - answers[0]) * 627.5095 for ans in answers.values()], 'kv', label='Elec energy unrelaxed')\n",
    "plt.legend(handles=[E0, ZPE, E, H, G, MM, E400, H400, G400], bbox_to_anchor=(1.05, 1), loc=2, borderaxespad=0.)"
   ]
  },
  {
   "cell_type": "markdown",
   "metadata": {
    "collapsed": true
   },
   "source": [
    "## C. Fragmentation Application: energy decomposition\n",
    "\n",
    "adapted from tutorial by C. David Sherrill, Georgia Tech at http://psicode.org/psi4manual/master/tutorial.html#analysis-of-intermolecular-interactions"
   ]
  },
  {
   "cell_type": "markdown",
   "metadata": {
    "collapsed": true
   },
   "source": [
    "We can analyze the nature of intermolecular interactions between two molecules, via symmetry-adapted perturbation theory (SAPT) [Jeziorski:1994:1887]. This kind of analysis gives a lot of insight into the nature of intermolecular interactions, and Psi4 makes these computations easier than ever.\n",
    "\n",
    "For a SAPT computation, the input needs to provide information on two distinct molecules. This is very easy, we just give a Z-matrix or set of Cartesian coordinates for each molecule, and separate the two with two dashes, like this:"
   ]
  },
  {
   "cell_type": "code",
   "execution_count": null,
   "metadata": {
    "collapsed": false
   },
   "outputs": [],
   "source": [
    "%%writefile sapt.in\n",
    "# Example SAPT computation for ethene*ethine (i.e., ethylene*acetylene),\n",
    "# test case 16 from the S22 database\n",
    "\n",
    "molecule dimer {\n",
    "0 1\n",
    "C   0.000000  -0.667578  -2.124659\n",
    "C   0.000000   0.667578  -2.124659\n",
    "H   0.923621  -1.232253  -2.126185\n",
    "H  -0.923621  -1.232253  -2.126185\n",
    "H  -0.923621   1.232253  -2.126185\n",
    "H   0.923621   1.232253  -2.126185\n",
    "--\n",
    "0 1\n",
    "C   0.000000   0.000000   2.900503\n",
    "C   0.000000   0.000000   1.693240\n",
    "H   0.000000   0.000000   0.627352\n",
    "H   0.000000   0.000000   3.963929\n",
    "units angstrom\n",
    "}\n",
    "\n",
    "set basis jun-cc-pvdz\n",
    "set freeze_core true\n",
    "\n",
    "energy('sapt0')"
   ]
  },
  {
   "cell_type": "code",
   "execution_count": null,
   "metadata": {
    "collapsed": false
   },
   "outputs": [],
   "source": [
    "!psi4 sapt.in -o stdout"
   ]
  },
  {
   "cell_type": "markdown",
   "metadata": {},
   "source": [
    "To speed up the computation a little, we also tell the SAPT procedure to freeze the core electrons with freeze_core True. The SAPT procedure is invoked with the simple call, energy('sapt0'). This call knows to automatically run two monomer computations and a dimer computation and then use these results to perform the SAPT analysis. The various energy components are printed at the end of the output, in addition to the total SAPT0 interaction energy. An explanation of the various energy components can be found in the review by Jeziorski, Moszynski, and Szalewicz [Jeziorski:1994:1887], and this is discussed in more detail in the SAPT section later in this manual. For now, we’ll note that most of the SAPT energy components are negative; this means those are attractive contributions (the zero of energy in a SAPT computation is defined as non-interacting monomers). The exchange contributions are positive (repulsive). In this example, the most attractive contribution between ethylene and acetylene is an electrostatic term of -2.12 kcal/mol (Elst10,r where the 1 indicates the first-order perturbation theory result with respect to the intermolecular interaction, and the 0 indicates zeroth-order with respect to intramolecular electron correlation). The next most attractive contribution is the Disp20 term (2nd order intermolecular dispersion, which looks like an MP2 in which one excitation is placed on each monomer), contributing an attraction of -1.21 kcal/mol. It is not surprising that the electrostatic contribution is dominant, because the geometry chosen for this example has the acetylene perpendicular to the ethylene, with the acetylene hydrogen pointing directly at the double bond in ethylene; this will be attractive because the H atoms in acetylene bear a partial positive charge, while the electron-rich double bond in ethylene bears a partial negative charge. At the same time, the dispersion interaction should be smaller because the perpendicular geometry does not allow much overlap between the monomers. Hence, the SAPT analysis helps clarify (and quantify) our physical understanding about the interaction between the two monomers."
   ]
  },
  {
   "cell_type": "code",
   "execution_count": null,
   "metadata": {
    "collapsed": true
   },
   "outputs": [],
   "source": [
    "# tern.py is in the github repo/tarball so adjust path accordingly\n",
    "import sys\n",
    "sys.path.append('/Users/loriab/linux/psi4workshop')\n",
    "import tern"
   ]
  },
  {
   "cell_type": "code",
   "execution_count": null,
   "metadata": {
    "collapsed": false
   },
   "outputs": [],
   "source": [
    "tern.ternary([[-2.11997068, -0.55805356, -1.04937892]])"
   ]
  },
  {
   "cell_type": "markdown",
   "metadata": {},
   "source": [
    "**Q.** Now try a methane dimer. Where does it appear? Can you find more complexes to fill in other regions of the graph? (Think charged systems, $\\pi$/$\\pi$ contacts, hydrogen bonds, repulsive complexes.) Some geometries to try here: https://raw.githubusercontent.com/psi4/psi4/master/share/databases/A24.py"
   ]
  },
  {
   "cell_type": "code",
   "execution_count": null,
   "metadata": {
    "collapsed": false
   },
   "outputs": [],
   "source": [
    "%%writefile sapt2.in\n",
    "molecule {\n",
    "0 1\n",
    "C   0.000000  -0.000140   1.859161\n",
    "H  -0.888551   0.513060   1.494685\n",
    "H   0.888551   0.513060   1.494685\n",
    "H   0.000000  -1.026339   1.494868\n",
    "H   0.000000   0.000089   2.948284\n",
    "--\n",
    "0 1\n",
    "C   0.000000   0.000140  -1.859161\n",
    "H   0.000000  -0.000089  -2.948284\n",
    "H  -0.888551  -0.513060  -1.494685\n",
    "H   0.888551  -0.513060  -1.494685\n",
    "H   0.000000   1.026339  -1.494868\n",
    "}\n",
    "\n",
    "set basis jun-cc-pvdz\n",
    "set freeze_core true\n",
    "\n",
    "energy('sapt0')"
   ]
  },
  {
   "cell_type": "code",
   "execution_count": null,
   "metadata": {
    "collapsed": false
   },
   "outputs": [],
   "source": [
    "! psi4 sapt2.in -o stdout"
   ]
  },
  {
   "cell_type": "code",
   "execution_count": null,
   "metadata": {
    "collapsed": false
   },
   "outputs": [],
   "source": [
    "tern.ternary([[-2.11997068, -0.55805356, -1.04937892],\n",
    "              [-0.13986987, -0.03988538, -0.53624514]])"
   ]
  },
  {
   "cell_type": "code",
   "execution_count": null,
   "metadata": {
    "collapsed": true
   },
   "outputs": [],
   "source": []
  }
 ],
 "metadata": {
  "kernelspec": {
   "display_name": "Python 2",
   "language": "python",
   "name": "python2"
  },
  "language_info": {
   "codemirror_mode": {
    "name": "ipython",
    "version": 2
   },
   "file_extension": ".py",
   "mimetype": "text/x-python",
   "name": "python",
   "nbconvert_exporter": "python",
   "pygments_lexer": "ipython2",
   "version": "2.7.11"
  }
 },
 "nbformat": 4,
 "nbformat_minor": 0
}
